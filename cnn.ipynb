{
 "cells": [
  {
   "cell_type": "code",
   "execution_count": 47,
   "metadata": {},
   "outputs": [],
   "source": [
    "import tensorflow as tf\n",
    "import numpy as np\n",
    "import matplotlib.pyplot as plt\n",
    "from tensorflow.keras.metrics import Accuracy\n",
    "\n",
    "\n",
    "# 整理数据\n",
    "# 将三个文件的数据整合到data中\n",
    "\n",
    "# 导入三个数据集\n",
    "happy = np.load(f'./process/happy.npy')[:8200]\n",
    "normal = np.load(f'./process/normal.npy')[:8200]\n",
    "sad = np.load(f'./process/sad.npy')[:8200]"
   ]
  },
  {
   "cell_type": "code",
   "execution_count": 49,
   "metadata": {},
   "outputs": [],
   "source": [
    "# 预处理\n",
    "happy = happy.reshape(-1, 50)\n",
    "normal = normal.reshape(-1, 50)\n",
    "sad = sad.reshape(-1, 50)\n",
    "happy = np.stack([happy,happy,happy])\n",
    "normal = np.stack([normal,normal,normal])\n",
    "sad = np.stack([sad,sad,sad])\n",
    "\n",
    "happy_label = np.full((happy.shape[0],1),0)\n",
    "normal_label = np.full((normal.shape[0],1),1)\n",
    "sad_label = np.full((sad.shape[0],1),2)"
   ]
  },
  {
   "cell_type": "code",
   "execution_count": 50,
   "metadata": {},
   "outputs": [
    {
     "name": "stdout",
     "output_type": "stream",
     "text": [
      "(3, 164, 50) (3, 164, 50) (3, 164, 50)\n",
      "(3, 1) (3, 1) (3, 1)\n"
     ]
    }
   ],
   "source": [
    "# 检查数据维度\n",
    "print(happy.shape, normal.shape, sad.shape)\n",
    "print(happy_label.shape,normal_label.shape,sad_label.shape)\n"
   ]
  },
  {
   "cell_type": "code",
   "execution_count": 51,
   "metadata": {},
   "outputs": [
    {
     "name": "stdout",
     "output_type": "stream",
     "text": [
      "Model: \"model_1\"\n",
      "_________________________________________________________________\n",
      " Layer (type)                Output Shape              Param #   \n",
      "=================================================================\n",
      " input_3 (InputLayer)        [(None, 164, 50)]         0         \n",
      "                                                                 \n",
      " conv1d_2 (Conv1D)           (None, 164, 32)           25632     \n",
      "                                                                 \n",
      " dropout_1 (Dropout)         (None, 164, 32)           0         \n",
      "                                                                 \n",
      " dense_4 (Dense)             (None, 164, 8)            264       \n",
      "                                                                 \n",
      " dense_5 (Dense)             (None, 164, 128)          1152      \n",
      "                                                                 \n",
      " dense_6 (Dense)             (None, 164, 64)           8256      \n",
      "                                                                 \n",
      " dense_7 (Dense)             (None, 164, 3)            195       \n",
      "                                                                 \n",
      "=================================================================\n",
      "Total params: 35499 (138.67 KB)\n",
      "Trainable params: 35499 (138.67 KB)\n",
      "Non-trainable params: 0 (0.00 Byte)\n",
      "_________________________________________________________________\n"
     ]
    }
   ],
   "source": [
    "S = 30\n",
    "\n",
    "input = tf.keras.layers.Input((164,50))\n",
    "\n",
    "conv1_1 = tf.keras.layers.Conv1D(S,16,activation='relu',padding='same')(input)\n",
    "conv2_1 = tf.keras.layers.Conv1D(S,16,activation='relu',padding='same')(input)\n",
    "conv3_1 = tf.keras.layers.Conv1D(S,16,activation='relu',padding='same')(input)\n",
    "\n",
    "conv1_2 = tf.keras.layers.Conv1D(S * 2,32,activation='relu',padding='same')(conv1_1)\n",
    "conv2_2 = tf.keras.layers.Conv1D(S * 2,32,activation='relu',padding='same')(conv2_1)\n",
    "conv3_2 = tf.keras.layers.Conv1D(S * 2,32,activation='relu',padding='same')(conv3_1)\n",
    "\n",
    "conv1_3 = tf.keras.layers.Conv1D(S * 3,64,activation='relu',padding='same')(conv1_2)\n",
    "conv2_3 = tf.keras.layers.Conv1D(S * 3,64,activation='relu',padding='same')(conv2_2)\n",
    "conv3_3 = tf.keras.layers.Conv1D(S * 3,64,activation='relu',padding='same')(conv3_2)\n",
    "\n",
    "conv1_4 = tf.keras.layers.Conv1D(S * 4,128,activation='relu',padding='same')(conv1_3)\n",
    "conv2_4 = tf.keras.layers.Conv1D(S * 4,128,activation='relu',padding='same')(conv2_3)\n",
    "conv3_4 = tf.keras.layers.Conv1D(S * 4,128,activation='relu',padding='same')(conv3_3)\n",
    "\n",
    "merge = tf.keras.layers.concatenate([conv1_4,conv2_4,conv3_4], axis=-1)\n",
    "\n",
    "dense = tf.keras.layers.Dense(256,'relu')(merge)\n",
    "output = tf.keras.layers.Dense(3, 'softmax')(dense)\n",
    "\n",
    "#\n",
    "np.set_printoptions(suppress=True)\n",
    "\n",
    "# 定义模型\n",
    "model = tf.keras.Model(inputs=input,outputs=output)\n",
    "\n",
    "adam = tf.keras.optimizers.Adam(0.0002)\n",
    "\n",
    "model.compile(optimizer=adam,\n",
    "              loss='sparse_categorical_crossentropy',\n",
    "              metrics=['accuracy'])\n",
    "\n",
    "model.summary()"
   ]
  },
  {
   "cell_type": "code",
   "execution_count": null,
   "metadata": {},
   "outputs": [],
   "source": [
    "model.fit(happy,happy_label,\n",
    "          epochs=30,    \n",
    "          verbose=2)\n",
    "\n",
    "z = model.predict(happy)"
   ]
  },
  {
   "cell_type": "code",
   "execution_count": 255,
   "metadata": {},
   "outputs": [
    {
     "data": {
      "text/plain": [
       "array([[[0.8523192 , 0.03136802, 0.1163128 ],\n",
       "        [0.99466044, 0.00390266, 0.00143684],\n",
       "        [0.94598895, 0.0539976 , 0.00001344],\n",
       "        ...,\n",
       "        [0.5357061 , 0.35970923, 0.10458466],\n",
       "        [0.9202194 , 0.07031878, 0.00946185],\n",
       "        [0.98358685, 0.01509249, 0.00132059]],\n",
       "\n",
       "       [[0.87416995, 0.02456729, 0.10126275],\n",
       "        [0.99667287, 0.00248579, 0.00084134],\n",
       "        [0.9567057 , 0.04328886, 0.00000543],\n",
       "        ...,\n",
       "        [0.54882425, 0.35743308, 0.09374262],\n",
       "        [0.9354365 , 0.05795937, 0.00660413],\n",
       "        [0.9884537 , 0.01077626, 0.00077009]],\n",
       "\n",
       "       [[0.8698677 , 0.02586203, 0.10427027],\n",
       "        [0.9963277 , 0.00273143, 0.00094086],\n",
       "        [0.9546509 , 0.04534248, 0.00000657],\n",
       "        ...,\n",
       "        [0.5461276 , 0.35795125, 0.09592103],\n",
       "        [0.93251556, 0.06036339, 0.00712096],\n",
       "        [0.98757523, 0.0115628 , 0.00086197]]], dtype=float32)"
      ]
     },
     "execution_count": 255,
     "metadata": {},
     "output_type": "execute_result"
    }
   ],
   "source": [
    "z"
   ]
  }
 ],
 "metadata": {
  "kernelspec": {
   "display_name": "base",
   "language": "python",
   "name": "python3"
  },
  "language_info": {
   "codemirror_mode": {
    "name": "ipython",
    "version": 3
   },
   "file_extension": ".py",
   "mimetype": "text/x-python",
   "name": "python",
   "nbconvert_exporter": "python",
   "pygments_lexer": "ipython3",
   "version": "3.11.5"
  },
  "orig_nbformat": 4
 },
 "nbformat": 4,
 "nbformat_minor": 2
}
